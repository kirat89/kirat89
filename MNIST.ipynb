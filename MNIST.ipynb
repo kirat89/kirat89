{
  "nbformat": 4,
  "nbformat_minor": 0,
  "metadata": {
    "colab": {
      "name": "MNIST.ipynb",
      "provenance": [],
      "authorship_tag": "ABX9TyNziuvlhSAQT6rWdEkGPTah",
      "include_colab_link": true
    },
    "kernelspec": {
      "name": "python3",
      "display_name": "Python 3"
    },
    "language_info": {
      "name": "python"
    }
  },
  "cells": [
    {
      "cell_type": "markdown",
      "metadata": {
        "id": "view-in-github",
        "colab_type": "text"
      },
      "source": [
        "<a href=\"https://colab.research.google.com/github/kirat89/kirat89/blob/main/MNIST.ipynb\" target=\"_parent\"><img src=\"https://colab.research.google.com/assets/colab-badge.svg\" alt=\"Open In Colab\"/></a>"
      ]
    },
    {
      "cell_type": "code",
      "metadata": {
        "id": "ysUG-9fae5TM"
      },
      "source": [
        "import tensorflow as tf\n",
        "import numpy as np\n",
        "import tensorflow_datasets as tfds"
      ],
      "execution_count": 74,
      "outputs": []
    },
    {
      "cell_type": "code",
      "metadata": {
        "id": "nlFimurxg0NX"
      },
      "source": [
        "mnist_dataset,mnist_info=tfds.load(name='mnist',with_info=True,as_supervised=True)"
      ],
      "execution_count": 75,
      "outputs": []
    },
    {
      "cell_type": "code",
      "metadata": {
        "id": "KAQq-mhykLmL"
      },
      "source": [
        "mnist_train,mnist_test=mnist_dataset['train'],mnist_dataset['test']\n"
      ],
      "execution_count": 76,
      "outputs": []
    },
    {
      "cell_type": "code",
      "metadata": {
        "id": "VPuOwsColtOM"
      },
      "source": [
        "num_validation_samples=0.1*mnist_info.splits['train'].num_examples\n",
        "num_validation_samples=tf.cast(num_validation_samples,tf.int64)\n",
        "\n",
        "num_test_samples=mnist_info.splits['test'].num_examples\n",
        "num_test_samples=tf.cast(num_test_samples,tf.int64)"
      ],
      "execution_count": 77,
      "outputs": []
    },
    {
      "cell_type": "code",
      "metadata": {
        "id": "tcf3C1H9mmZN"
      },
      "source": [
        "def scale(image,label):\n",
        "  image=tf.cast(image,tf.float32)\n",
        "  image/=255.\n",
        "  return image,label"
      ],
      "execution_count": 78,
      "outputs": []
    },
    {
      "cell_type": "code",
      "metadata": {
        "id": "E9dAI7ayoAKc"
      },
      "source": [
        "scaled_train_validation_data=mnist_train.map(scale)"
      ],
      "execution_count": 79,
      "outputs": []
    },
    {
      "cell_type": "code",
      "metadata": {
        "id": "3k0NI0d2oNjC"
      },
      "source": [
        "test_sample=mnist_test.map(scale)"
      ],
      "execution_count": 80,
      "outputs": []
    },
    {
      "cell_type": "code",
      "metadata": {
        "id": "xFem2e9ApPgb"
      },
      "source": [
        "BUFFER_SIZE=10000\n",
        "shuffled_train_validation_data=scaled_train_validation_data.shuffle(BUFFER_SIZE)\n",
        "validation_data=shuffled_train_validation_data.take(num_validation_samples)\n",
        "train_data=shuffled_train_validation_data.skip(num_validation_samples)\n",
        "BATCH_SIZE=100\n",
        "train_data=train_data.batch(BATCH_SIZE)\n",
        "validation_data=validation_data.batch(num_validation_samples)\n",
        "test_data=test_sample.batch(num_test_samples)\n",
        "\n",
        "validation_input,validation_targets=next(iter(validation_data))"
      ],
      "execution_count": 81,
      "outputs": []
    },
    {
      "cell_type": "markdown",
      "metadata": {
        "id": "EwMMRlTohDZ7"
      },
      "source": [
        "Outline Model"
      ]
    },
    {
      "cell_type": "code",
      "metadata": {
        "id": "o6YwPlvFkuU-"
      },
      "source": [
        "input_size=784\n",
        "output_size=10\n",
        "hidden_layer_size=200\n",
        "model=tf.keras.Sequential([\n",
        "                          tf.keras.layers.Flatten(input_shape=(28,28,1)),\n",
        "                          tf.keras.layers.Dense(hidden_layer_size,activation='relu'),\n",
        "                          tf.keras.layers.Dense(hidden_layer_size,activation='relu'),\n",
        "                          tf.keras.layers.Dense(hidden_layer_size,activation='tanh'),\n",
        "                          tf.keras.layers.Dense(output_size,activation='softmax'),\n",
        "                           ])"
      ],
      "execution_count": 82,
      "outputs": []
    },
    {
      "cell_type": "code",
      "metadata": {
        "id": "RWceZkuqTDcC"
      },
      "source": [
        "model.compile(optimizer='adam',loss='sparse_categorical_crossentropy',metrics=['accuracy'])"
      ],
      "execution_count": 83,
      "outputs": []
    },
    {
      "cell_type": "code",
      "metadata": {
        "id": "sCQB4RMyi6xD",
        "colab": {
          "base_uri": "https://localhost:8080/"
        },
        "outputId": "35062836-17be-4a2c-ffca-167baff18179"
      },
      "source": [
        "num_epochs = 10\n",
        "\n",
        "model.fit(train_data,epochs=num_epochs,validation_data=(validation_input,validation_targets),verbose=2)\n",
        " "
      ],
      "execution_count": 84,
      "outputs": [
        {
          "output_type": "stream",
          "text": [
            "Epoch 1/10\n",
            "540/540 - 9s - loss: 0.2458 - accuracy: 0.9262 - val_loss: 0.1144 - val_accuracy: 0.9657\n",
            "Epoch 2/10\n",
            "540/540 - 5s - loss: 0.0910 - accuracy: 0.9719 - val_loss: 0.0794 - val_accuracy: 0.9757\n",
            "Epoch 3/10\n",
            "540/540 - 5s - loss: 0.0637 - accuracy: 0.9799 - val_loss: 0.0564 - val_accuracy: 0.9823\n",
            "Epoch 4/10\n",
            "540/540 - 5s - loss: 0.0478 - accuracy: 0.9844 - val_loss: 0.0485 - val_accuracy: 0.9847\n",
            "Epoch 5/10\n",
            "540/540 - 4s - loss: 0.0371 - accuracy: 0.9885 - val_loss: 0.0425 - val_accuracy: 0.9863\n",
            "Epoch 6/10\n",
            "540/540 - 5s - loss: 0.0288 - accuracy: 0.9906 - val_loss: 0.0283 - val_accuracy: 0.9910\n",
            "Epoch 7/10\n",
            "540/540 - 5s - loss: 0.0249 - accuracy: 0.9917 - val_loss: 0.0276 - val_accuracy: 0.9930\n",
            "Epoch 8/10\n",
            "540/540 - 5s - loss: 0.0225 - accuracy: 0.9927 - val_loss: 0.0314 - val_accuracy: 0.9907\n",
            "Epoch 9/10\n",
            "540/540 - 5s - loss: 0.0228 - accuracy: 0.9922 - val_loss: 0.0300 - val_accuracy: 0.9910\n",
            "Epoch 10/10\n",
            "540/540 - 5s - loss: 0.0168 - accuracy: 0.9946 - val_loss: 0.0172 - val_accuracy: 0.9955\n"
          ],
          "name": "stdout"
        },
        {
          "output_type": "execute_result",
          "data": {
            "text/plain": [
              "<tensorflow.python.keras.callbacks.History at 0x7fe388bb7350>"
            ]
          },
          "metadata": {
            "tags": []
          },
          "execution_count": 84
        }
      ]
    },
    {
      "cell_type": "code",
      "metadata": {
        "colab": {
          "base_uri": "https://localhost:8080/"
        },
        "id": "-u37pg-cmOBR",
        "outputId": "238bbddf-5e7d-4873-cc1b-0f156743457b"
      },
      "source": [
        "test_loss,test_accuracy=model.evaluate(test_data)"
      ],
      "execution_count": 85,
      "outputs": [
        {
          "output_type": "stream",
          "text": [
            "1/1 [==============================] - 1s 979ms/step - loss: 0.0717 - accuracy: 0.9821\n"
          ],
          "name": "stdout"
        }
      ]
    },
    {
      "cell_type": "code",
      "metadata": {
        "colab": {
          "base_uri": "https://localhost:8080/"
        },
        "id": "LkqSLtZ_DGQ2",
        "outputId": "fb8cc850-d5e8-4ee6-b5c9-4a2d14f50eb6"
      },
      "source": [
        "print('test loss: {0:1f} test accuracy:{1:2f}%'.format(test_loss,test_accuracy*100))"
      ],
      "execution_count": 86,
      "outputs": [
        {
          "output_type": "stream",
          "text": [
            "test loss: 0.071715 test accuracy:98.210001%\n"
          ],
          "name": "stdout"
        }
      ]
    },
    {
      "cell_type": "code",
      "metadata": {
        "id": "yk2dsqOQDnKK"
      },
      "source": [
        ""
      ],
      "execution_count": 86,
      "outputs": []
    }
  ]
}